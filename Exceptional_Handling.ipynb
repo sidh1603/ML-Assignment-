{
 "cells": [
  {
   "cell_type": "code",
   "execution_count": 12,
   "id": "6bbe44ed",
   "metadata": {},
   "outputs": [
    {
     "name": "stdout",
     "output_type": "stream",
     "text": [
      "100\n",
      "0\n",
      "Cannot divide by zero  division by zero\n",
      "This will always execute\n"
     ]
    }
   ],
   "source": [
    "##Answer1\n",
    "def exception_case():\n",
    "\n",
    "        a = int(input())\n",
    "        b = int(input())\n",
    "        \n",
    "        try:\n",
    "            print(a/b)\n",
    "        except ZeroDivisionError as e :\n",
    "            print(\"Cannot divide by zero \",e)\n",
    "            \n",
    "        else:\n",
    "            print(\"Successfully divisble\")\n",
    "        finally:\n",
    "            print(\"This will always execute\")\n",
    "            \n",
    "exception_case()"
   ]
  },
  {
   "cell_type": "code",
   "execution_count": 23,
   "id": "fc007043",
   "metadata": {},
   "outputs": [
    {
     "name": "stdout",
     "output_type": "stream",
     "text": [
      "Americans  play Baseball\n",
      "Americans  play Cricket\n",
      "Americans  watch Baseball\n",
      "Americans  watch Cricket\n",
      "Indians play Baseball\n",
      "Indians play Cricket\n",
      "Indians watch Baseball\n",
      "Indians watch Cricket\n"
     ]
    }
   ],
   "source": [
    "##Answer2\n",
    "s=[\"Americans \",\"Indians\"]\n",
    "v=[\"play\",\"watch\"]\n",
    "o=[\"Baseball\",\"Cricket\"]\n",
    "\n",
    "print((s[0] +\" \"+ v[0] +\" \" + o[0]))\n",
    "print((s[0] +\" \"+ v[0] +\" \" + o[1]))\n",
    "print((s[0] +\" \"+ v[1] +\" \" + o[0]))\n",
    "print((s[0] +\" \"+ v[1] +\" \" + o[1]))\n",
    "print((s[1] +\" \"+ v[0] +\" \" + o[0]))\n",
    "print((s[1] +\" \"+ v[0] +\" \" + o[1]))\n",
    "print((s[1] +\" \"+ v[1] +\" \" + o[0]))\n",
    "print((s[1] +\" \"+ v[1] +\" \" + o[1]))"
   ]
  },
  {
   "cell_type": "code",
   "execution_count": 10,
   "id": "b28c8077",
   "metadata": {},
   "outputs": [
    {
     "name": "stdout",
     "output_type": "stream",
     "text": [
      "('Americans', 'play')\n",
      "('Americans', 'watch')\n",
      "('Indians', 'play')\n",
      "('Indians', 'watch')\n",
      "('Americans', 'Baseball')\n",
      "('Americans', 'Cricket')\n",
      "('Indians', 'Baseball')\n",
      "('Indians', 'Cricket')\n",
      "('play', 'Baseball')\n",
      "('play', 'Cricket')\n",
      "('watch', 'Baseball')\n",
      "('watch', 'Cricket')\n",
      "('Americans', 'play', 'Baseball')\n",
      "('Americans', 'play', 'Cricket')\n",
      "('Americans', 'watch', 'Baseball')\n",
      "('Americans', 'watch', 'Cricket')\n",
      "('Indians', 'play', 'Baseball')\n",
      "('Indians', 'play', 'Cricket')\n",
      "('Indians', 'watch', 'Baseball')\n",
      "('Indians', 'watch', 'Cricket')\n"
     ]
    }
   ],
   "source": [
    "##Answer2\n",
    "import itertools as it\n",
    "s=[\"Americans\",\"Indians\"]\n",
    "v=[\"play\",\"watch\"]\n",
    "o=[\"Baseball\",\"Cricket\"]\n",
    "f_l = [s,v,o]\n",
    "l = []\n",
    "for i in range(2,len(f_l)+1):\n",
    "    test  = it.combinations(range(0,len(f_l)),i)\n",
    "    l.append(list(test))\n",
    "    #print(l)\n",
    "    \n",
    "diff = []\n",
    "for i in l:\n",
    "    for j in i:\n",
    "        diff.append([f_l[k] for k in j])\n",
    "        \n",
    "for i in diff:\n",
    "    for j in list(it.product(*i)):\n",
    "        print(j)\n",
    "    \n",
    "\n"
   ]
  }
 ],
 "metadata": {
  "kernelspec": {
   "display_name": "Python 3",
   "language": "python",
   "name": "python3"
  },
  "language_info": {
   "codemirror_mode": {
    "name": "ipython",
    "version": 3
   },
   "file_extension": ".py",
   "mimetype": "text/x-python",
   "name": "python",
   "nbconvert_exporter": "python",
   "pygments_lexer": "ipython3",
   "version": "3.8.8"
  }
 },
 "nbformat": 4,
 "nbformat_minor": 5
}
